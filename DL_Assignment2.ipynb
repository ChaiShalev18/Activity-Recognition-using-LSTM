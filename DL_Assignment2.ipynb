{
 "cells": [
  {
   "cell_type": "markdown",
   "id": "2bc72408-18b4-47ce-a458-f3c0abadef71",
   "metadata": {},
   "source": [
    "Elad Inbar - 205358211 Ido Livne - 203834733 Chai Hadad - 209268135"
   ]
  },
  {
   "cell_type": "markdown",
   "id": "2fda5b34-3f67-41c1-8533-e39354fb084b",
   "metadata": {
    "tags": []
   },
   "source": [
    "# **Import**"
   ]
  },
  {
   "cell_type": "code",
   "execution_count": 119,
   "id": "b4823596-f68f-4fd8-912c-1608299bfc9f",
   "metadata": {},
   "outputs": [],
   "source": [
    "import csv\n",
    "import torch\n",
    "import os\n",
    "import math\n",
    "import pandas as pd\n",
    "import matplotlib.pyplot as plt\n",
    "from matplotlib.pyplot import figure\n",
    "import plotly.express as px"
   ]
  },
  {
   "cell_type": "markdown",
   "id": "d87a9e12-0dcd-460b-8003-a93c3bc9fb09",
   "metadata": {},
   "source": [
    "# **Initialize Runtime**"
   ]
  },
  {
   "cell_type": "code",
   "execution_count": 5,
   "id": "54139238-655c-454e-ab87-13427427d393",
   "metadata": {},
   "outputs": [
    {
     "data": {
      "text/plain": [
       "device(type='cuda')"
      ]
     },
     "execution_count": 5,
     "metadata": {},
     "output_type": "execute_result"
    }
   ],
   "source": [
    "device = torch.device('cuda' if torch.cuda.is_available() else 'cpu')\n",
    "device"
   ]
  },
  {
   "cell_type": "markdown",
   "id": "8bbe9837-47e7-4b70-8312-5f62bdaf23e1",
   "metadata": {},
   "source": [
    "# **Define dataset paths**"
   ]
  },
  {
   "cell_type": "code",
   "execution_count": 14,
   "id": "467ebb15-8fd7-44e3-a4b0-e1ee5fa8ce66",
   "metadata": {},
   "outputs": [],
   "source": [
    "protocol_path = 'PAMAP2_Dataset/Protocol/'\n",
    "optional_path = 'PAMAP2_Dataset/Optional/'\n",
    "\n",
    "protocol_dir = sorted(os.listdir(protocol_path))\n",
    "optional_dir = sorted(os.listdir(optional_path))"
   ]
  },
  {
   "cell_type": "markdown",
   "id": "2293d494-1247-4e0e-b667-c896043edad1",
   "metadata": {},
   "source": [
    "# **Exploratory Data Analysis**"
   ]
  },
  {
   "cell_type": "markdown",
   "id": "d84ab1e1-39a4-4d9a-a63e-3dd7e8f8303a",
   "metadata": {},
   "source": [
    "After downloading the dataset we can check how much data we're working with:"
   ]
  },
  {
   "cell_type": "code",
   "execution_count": null,
   "id": "23cf33fc-18b9-47c4-a10e-bd12c8e91cbf",
   "metadata": {},
   "outputs": [],
   "source": [
    "# amount of activities (not distinct) per subject to classify\n",
    "# amount of activities to classify in total"
   ]
  },
  {
   "cell_type": "code",
   "execution_count": 36,
   "id": "3d9d35d3-6cff-4dc5-823b-0dbbebbc4049",
   "metadata": {},
   "outputs": [],
   "source": [
    "optional_subjects = [\"subject101\", \"subject105\", \"subject106\", \"subject108\", \"subject109\"]\n",
    "protocol_subjects = [\"subject101\", \"subject102\", \"subject103\", \"subject104\", \"subject105\", \"subject106\", \"subject107\", \"subject108\", \"subject109\"]"
   ]
  },
  {
   "cell_type": "code",
   "execution_count": null,
   "id": "9093a536-e28f-4a52-8a9c-31944519b4cb",
   "metadata": {},
   "outputs": [],
   "source": [
    "# protocol_dat_content = [[i.strip().split() for i in open(protocol_path + protocol_subject + \".dat\").readlines()] for protocol_subject in protocol_subjects]"
   ]
  },
  {
   "cell_type": "code",
   "execution_count": 37,
   "id": "29620c46-373d-4b21-862b-d1d8b6331b3e",
   "metadata": {},
   "outputs": [],
   "source": [
    "# optional_dat_content = [[i.strip().split() for i in open(optional_path + optional_subject + \".dat\").readlines()] for optional_subject in optional_subjects]   "
   ]
  },
  {
   "cell_type": "code",
   "execution_count": 84,
   "id": "9e852fa7-5a80-4bdd-8930-11ed51824c7f",
   "metadata": {},
   "outputs": [],
   "source": [
    "# for i in range(9):\n",
    "#     with open(protocol_path + protocol_subjects[i] + \".csv\", \"w\") as file:\n",
    "#         writer = csv.writer(file)\n",
    "#         writer.writerows(protocol_dat_content[i])"
   ]
  },
  {
   "cell_type": "code",
   "execution_count": 90,
   "id": "e068b175-c1d8-4198-89f2-4a4bc1d67128",
   "metadata": {},
   "outputs": [],
   "source": [
    "# for i in range(5):\n",
    "#     with open(optional_path + optional_subjects[i] + \".csv\", \"w\") as file:\n",
    "#         writer = csv.writer(file)\n",
    "#         writer.writerows(optional_dat_content[i])"
   ]
  },
  {
   "cell_type": "code",
   "execution_count": 86,
   "id": "c8bbd99f-d021-4aa5-b585-63b7425dfa4b",
   "metadata": {},
   "outputs": [],
   "source": [
    "#path to our csv files\n",
    "path_to_csv = protocol_path\n",
    "\n",
    "columns_to_keep = ['timestamp (s)', 'activityID', 'heart rate (bpm)'] # (1, 2, 3)\n",
    "\n",
    "# 4-20 (3-19)\n",
    "columns_to_keep += ['IMU hand temperature (°C)'] # 1 (3)\n",
    "columns_to_keep += ['IMU hand 3D-acceleration data (ms-2), scale +-16g ' + str(i + 1) for i in range(3)] # 2-4 (4-6)\n",
    "columns_to_keep += ['IMU hand 3D-acceleration data (ms-2), scale +-6g ' + str(i + 1) for i in range(3)] # 5-7 (7-9)\n",
    "columns_to_keep += ['IMU hand 3D-gyroscope data (rad/s) ' + str(i + 1) for i in range(3)] # 8-10 (10-12)\n",
    "columns_to_keep += ['IMU hand 3D-magnetometer (µT) ' + str(i + 1) for i in range(3)] # 11-13 (13-15)\n",
    "columns_to_keep += ['IMU hand orientation ' + str(i + 1) for i in range(4)] # 14-17 (16-19)\n",
    "\n",
    "# 21-37 (20-36)\n",
    "columns_to_keep += ['IMU chest temperature (°C)'] # 1 (20)\n",
    "columns_to_keep += ['IMU chest 3D-acceleration data (ms-2), scale +-16g ' + str(i + 1) for i in range(3)] # 2-4 (21-23)\n",
    "columns_to_keep += ['IMU chest 3D-acceleration data (ms-2), scale +-6g ' + str(i + 1) for i in range(3)] # 5-7 (24-26)\n",
    "columns_to_keep += ['IMU chest 3D-gyroscope data (rad/s) ' + str(i + 1) for i in range(3)] # 8-10 (27-29)\n",
    "columns_to_keep += ['IMU chest 3D-magnetometer (µT) ' + str(i + 1) for i in range(3)] # 11-13 (30-32)\n",
    "columns_to_keep += ['IMU chest orientation ' + str(i + 1) for i in range(4)] # 14-17 (33-36)\n",
    "\n",
    "# 38-54 (37-53)\n",
    "columns_to_keep += ['IMU ankle temperature (°C)'] # 1 (37)\n",
    "columns_to_keep += ['IMU ankle 3D-acceleration data (ms-2), scale +-16g ' + str(i + 1) for i in range(3)] # 2-4 (38-40)\n",
    "columns_to_keep += ['IMU ankle 3D-acceleration data (ms-2), scale +-6g ' + str(i + 1) for i in range(3)] # 5-7 (41-43)\n",
    "columns_to_keep += ['IMU ankle 3D-gyroscope data (rad/s) ' + str(i + 1) for i in range(3)] # 8-10 (44-46)\n",
    "columns_to_keep += ['IMU ankle 3D-magnetometer (µT) ' + str(i + 1) for i in range(3)] # 11-13 (47-49)\n",
    "columns_to_keep += ['IMU ankle orientation ' + str(i + 1) for i in range(4)] # 14-17 (50-53)"
   ]
  },
  {
   "cell_type": "code",
   "execution_count": 87,
   "id": "e84eb1c5-04a1-48cc-8e06-8ccac51910fa",
   "metadata": {},
   "outputs": [],
   "source": [
    "protocol_dataframes = {}\n",
    "for protocol_subject in protocol_subjects:\n",
    "    protocol_dataframes[protocol_subject] = pd.read_csv(path_to_csv + protocol_subject + \".csv\", names=columns_to_keep)\n",
    "    protocol_dataframes[protocol_subject].drop(protocol_dataframes[protocol_subject].columns[[16,17,18,19, 33,34,35,36, 50,51,52,53]], axis=1)"
   ]
  },
  {
   "cell_type": "code",
   "execution_count": 91,
   "id": "5cba62c5-cddf-44c3-81fa-0be67983f840",
   "metadata": {},
   "outputs": [],
   "source": [
    "optional_dataframes = {}\n",
    "for optional_subject in optional_subjects:\n",
    "    optional_dataframes[optional_subject] = pd.read_csv(path_to_csv + optional_subject + \".csv\", names=columns_to_keep)\n",
    "    optional_dataframes[optional_subject].drop(optional_dataframes[optional_subject].columns[[16,17,18,19, 33,34,35,36, 50,51,52,53]], axis=1)"
   ]
  },
  {
   "cell_type": "code",
   "execution_count": 89,
   "id": "ffa725b3-cac3-4967-8125-683e03788804",
   "metadata": {},
   "outputs": [
    {
     "data": {
      "text/html": [
       "<div>\n",
       "<style scoped>\n",
       "    .dataframe tbody tr th:only-of-type {\n",
       "        vertical-align: middle;\n",
       "    }\n",
       "\n",
       "    .dataframe tbody tr th {\n",
       "        vertical-align: top;\n",
       "    }\n",
       "\n",
       "    .dataframe thead th {\n",
       "        text-align: right;\n",
       "    }\n",
       "</style>\n",
       "<table border=\"1\" class=\"dataframe\">\n",
       "  <thead>\n",
       "    <tr style=\"text-align: right;\">\n",
       "      <th></th>\n",
       "      <th>timestamp (s)</th>\n",
       "      <th>activityID</th>\n",
       "      <th>heart rate (bpm)</th>\n",
       "      <th>IMU hand temperature (°C)</th>\n",
       "      <th>IMU hand 3D-acceleration data (ms-2), scale +-16g 1</th>\n",
       "      <th>IMU hand 3D-acceleration data (ms-2), scale +-16g 2</th>\n",
       "      <th>IMU hand 3D-acceleration data (ms-2), scale +-16g 3</th>\n",
       "      <th>IMU hand 3D-acceleration data (ms-2), scale +-6g 1</th>\n",
       "      <th>IMU hand 3D-acceleration data (ms-2), scale +-6g 2</th>\n",
       "      <th>IMU hand 3D-acceleration data (ms-2), scale +-6g 3</th>\n",
       "      <th>...</th>\n",
       "      <th>IMU ankle 3D-gyroscope data (rad/s) 1</th>\n",
       "      <th>IMU ankle 3D-gyroscope data (rad/s) 2</th>\n",
       "      <th>IMU ankle 3D-gyroscope data (rad/s) 3</th>\n",
       "      <th>IMU ankle 3D-magnetometer (µT) 1</th>\n",
       "      <th>IMU ankle 3D-magnetometer (µT) 2</th>\n",
       "      <th>IMU ankle 3D-magnetometer (µT) 3</th>\n",
       "      <th>IMU ankle orientation 1</th>\n",
       "      <th>IMU ankle orientation 2</th>\n",
       "      <th>IMU ankle orientation 3</th>\n",
       "      <th>IMU ankle orientation 4</th>\n",
       "    </tr>\n",
       "  </thead>\n",
       "  <tbody>\n",
       "    <tr>\n",
       "      <th>0</th>\n",
       "      <td>8.38</td>\n",
       "      <td>0</td>\n",
       "      <td>104.0</td>\n",
       "      <td>30.0</td>\n",
       "      <td>2.37223</td>\n",
       "      <td>8.60074</td>\n",
       "      <td>3.51048</td>\n",
       "      <td>2.43954</td>\n",
       "      <td>8.76165</td>\n",
       "      <td>3.35465</td>\n",
       "      <td>...</td>\n",
       "      <td>0.008300</td>\n",
       "      <td>0.009250</td>\n",
       "      <td>-0.017580</td>\n",
       "      <td>-61.1888</td>\n",
       "      <td>-38.9599</td>\n",
       "      <td>-58.1438</td>\n",
       "      <td>1.0</td>\n",
       "      <td>0.0</td>\n",
       "      <td>0.0</td>\n",
       "      <td>0.0</td>\n",
       "    </tr>\n",
       "    <tr>\n",
       "      <th>1</th>\n",
       "      <td>8.39</td>\n",
       "      <td>0</td>\n",
       "      <td>NaN</td>\n",
       "      <td>30.0</td>\n",
       "      <td>2.18837</td>\n",
       "      <td>8.56560</td>\n",
       "      <td>3.66179</td>\n",
       "      <td>2.39494</td>\n",
       "      <td>8.55081</td>\n",
       "      <td>3.64207</td>\n",
       "      <td>...</td>\n",
       "      <td>-0.006577</td>\n",
       "      <td>-0.004638</td>\n",
       "      <td>0.000368</td>\n",
       "      <td>-59.8479</td>\n",
       "      <td>-38.8919</td>\n",
       "      <td>-58.5253</td>\n",
       "      <td>1.0</td>\n",
       "      <td>0.0</td>\n",
       "      <td>0.0</td>\n",
       "      <td>0.0</td>\n",
       "    </tr>\n",
       "    <tr>\n",
       "      <th>2</th>\n",
       "      <td>8.40</td>\n",
       "      <td>0</td>\n",
       "      <td>NaN</td>\n",
       "      <td>30.0</td>\n",
       "      <td>2.37357</td>\n",
       "      <td>8.60107</td>\n",
       "      <td>3.54898</td>\n",
       "      <td>2.30514</td>\n",
       "      <td>8.53644</td>\n",
       "      <td>3.73280</td>\n",
       "      <td>...</td>\n",
       "      <td>0.003014</td>\n",
       "      <td>0.000148</td>\n",
       "      <td>0.022495</td>\n",
       "      <td>-60.7361</td>\n",
       "      <td>-39.4138</td>\n",
       "      <td>-58.3999</td>\n",
       "      <td>1.0</td>\n",
       "      <td>0.0</td>\n",
       "      <td>0.0</td>\n",
       "      <td>0.0</td>\n",
       "    </tr>\n",
       "    <tr>\n",
       "      <th>3</th>\n",
       "      <td>8.41</td>\n",
       "      <td>0</td>\n",
       "      <td>NaN</td>\n",
       "      <td>30.0</td>\n",
       "      <td>2.07473</td>\n",
       "      <td>8.52853</td>\n",
       "      <td>3.66021</td>\n",
       "      <td>2.33528</td>\n",
       "      <td>8.53622</td>\n",
       "      <td>3.73277</td>\n",
       "      <td>...</td>\n",
       "      <td>0.003175</td>\n",
       "      <td>-0.020301</td>\n",
       "      <td>0.011275</td>\n",
       "      <td>-60.4091</td>\n",
       "      <td>-38.7635</td>\n",
       "      <td>-58.3956</td>\n",
       "      <td>1.0</td>\n",
       "      <td>0.0</td>\n",
       "      <td>0.0</td>\n",
       "      <td>0.0</td>\n",
       "    </tr>\n",
       "    <tr>\n",
       "      <th>4</th>\n",
       "      <td>8.42</td>\n",
       "      <td>0</td>\n",
       "      <td>NaN</td>\n",
       "      <td>30.0</td>\n",
       "      <td>2.22936</td>\n",
       "      <td>8.83122</td>\n",
       "      <td>3.70000</td>\n",
       "      <td>2.23055</td>\n",
       "      <td>8.59741</td>\n",
       "      <td>3.76295</td>\n",
       "      <td>...</td>\n",
       "      <td>0.012698</td>\n",
       "      <td>-0.014303</td>\n",
       "      <td>-0.002823</td>\n",
       "      <td>-61.5199</td>\n",
       "      <td>-39.3879</td>\n",
       "      <td>-58.2694</td>\n",
       "      <td>1.0</td>\n",
       "      <td>0.0</td>\n",
       "      <td>0.0</td>\n",
       "      <td>0.0</td>\n",
       "    </tr>\n",
       "    <tr>\n",
       "      <th>...</th>\n",
       "      <td>...</td>\n",
       "      <td>...</td>\n",
       "      <td>...</td>\n",
       "      <td>...</td>\n",
       "      <td>...</td>\n",
       "      <td>...</td>\n",
       "      <td>...</td>\n",
       "      <td>...</td>\n",
       "      <td>...</td>\n",
       "      <td>...</td>\n",
       "      <td>...</td>\n",
       "      <td>...</td>\n",
       "      <td>...</td>\n",
       "      <td>...</td>\n",
       "      <td>...</td>\n",
       "      <td>...</td>\n",
       "      <td>...</td>\n",
       "      <td>...</td>\n",
       "      <td>...</td>\n",
       "      <td>...</td>\n",
       "      <td>...</td>\n",
       "    </tr>\n",
       "    <tr>\n",
       "      <th>376412</th>\n",
       "      <td>3772.50</td>\n",
       "      <td>0</td>\n",
       "      <td>NaN</td>\n",
       "      <td>30.5</td>\n",
       "      <td>2.02477</td>\n",
       "      <td>7.29553</td>\n",
       "      <td>5.74194</td>\n",
       "      <td>2.06573</td>\n",
       "      <td>6.57692</td>\n",
       "      <td>5.92695</td>\n",
       "      <td>...</td>\n",
       "      <td>0.048745</td>\n",
       "      <td>-0.008034</td>\n",
       "      <td>0.018600</td>\n",
       "      <td>-58.8381</td>\n",
       "      <td>-36.2397</td>\n",
       "      <td>-11.0980</td>\n",
       "      <td>1.0</td>\n",
       "      <td>0.0</td>\n",
       "      <td>0.0</td>\n",
       "      <td>0.0</td>\n",
       "    </tr>\n",
       "    <tr>\n",
       "      <th>376413</th>\n",
       "      <td>3772.51</td>\n",
       "      <td>0</td>\n",
       "      <td>NaN</td>\n",
       "      <td>30.5</td>\n",
       "      <td>2.10836</td>\n",
       "      <td>7.86504</td>\n",
       "      <td>5.85674</td>\n",
       "      <td>2.08754</td>\n",
       "      <td>7.42244</td>\n",
       "      <td>5.87977</td>\n",
       "      <td>...</td>\n",
       "      <td>0.042113</td>\n",
       "      <td>0.024647</td>\n",
       "      <td>0.013375</td>\n",
       "      <td>-58.9537</td>\n",
       "      <td>-36.3379</td>\n",
       "      <td>-11.7170</td>\n",
       "      <td>1.0</td>\n",
       "      <td>0.0</td>\n",
       "      <td>0.0</td>\n",
       "      <td>0.0</td>\n",
       "    </tr>\n",
       "    <tr>\n",
       "      <th>376414</th>\n",
       "      <td>3772.52</td>\n",
       "      <td>0</td>\n",
       "      <td>NaN</td>\n",
       "      <td>30.5</td>\n",
       "      <td>2.07163</td>\n",
       "      <td>8.39581</td>\n",
       "      <td>5.77742</td>\n",
       "      <td>2.13833</td>\n",
       "      <td>8.05640</td>\n",
       "      <td>5.90853</td>\n",
       "      <td>...</td>\n",
       "      <td>-0.014889</td>\n",
       "      <td>0.026009</td>\n",
       "      <td>0.025054</td>\n",
       "      <td>-59.1781</td>\n",
       "      <td>-35.8985</td>\n",
       "      <td>-10.9678</td>\n",
       "      <td>1.0</td>\n",
       "      <td>0.0</td>\n",
       "      <td>0.0</td>\n",
       "      <td>0.0</td>\n",
       "    </tr>\n",
       "    <tr>\n",
       "      <th>376415</th>\n",
       "      <td>3772.53</td>\n",
       "      <td>0</td>\n",
       "      <td>NaN</td>\n",
       "      <td>30.5</td>\n",
       "      <td>2.19569</td>\n",
       "      <td>8.77634</td>\n",
       "      <td>6.00892</td>\n",
       "      <td>2.11251</td>\n",
       "      <td>8.53989</td>\n",
       "      <td>5.93770</td>\n",
       "      <td>...</td>\n",
       "      <td>0.047026</td>\n",
       "      <td>-0.035531</td>\n",
       "      <td>0.024640</td>\n",
       "      <td>-58.8299</td>\n",
       "      <td>-36.6845</td>\n",
       "      <td>-10.8553</td>\n",
       "      <td>1.0</td>\n",
       "      <td>0.0</td>\n",
       "      <td>0.0</td>\n",
       "      <td>0.0</td>\n",
       "    </tr>\n",
       "    <tr>\n",
       "      <th>376416</th>\n",
       "      <td>3772.54</td>\n",
       "      <td>0</td>\n",
       "      <td>NaN</td>\n",
       "      <td>30.5</td>\n",
       "      <td>2.14774</td>\n",
       "      <td>8.66047</td>\n",
       "      <td>5.73918</td>\n",
       "      <td>2.15810</td>\n",
       "      <td>8.59995</td>\n",
       "      <td>5.92242</td>\n",
       "      <td>...</td>\n",
       "      <td>0.042585</td>\n",
       "      <td>0.017541</td>\n",
       "      <td>-0.037893</td>\n",
       "      <td>-59.1707</td>\n",
       "      <td>-36.7731</td>\n",
       "      <td>-11.5961</td>\n",
       "      <td>1.0</td>\n",
       "      <td>0.0</td>\n",
       "      <td>0.0</td>\n",
       "      <td>0.0</td>\n",
       "    </tr>\n",
       "  </tbody>\n",
       "</table>\n",
       "<p>376417 rows × 54 columns</p>\n",
       "</div>"
      ],
      "text/plain": [
       "        timestamp (s)  activityID  heart rate (bpm)  \\\n",
       "0                8.38           0             104.0   \n",
       "1                8.39           0               NaN   \n",
       "2                8.40           0               NaN   \n",
       "3                8.41           0               NaN   \n",
       "4                8.42           0               NaN   \n",
       "...               ...         ...               ...   \n",
       "376412        3772.50           0               NaN   \n",
       "376413        3772.51           0               NaN   \n",
       "376414        3772.52           0               NaN   \n",
       "376415        3772.53           0               NaN   \n",
       "376416        3772.54           0               NaN   \n",
       "\n",
       "        IMU hand temperature (°C)  \\\n",
       "0                            30.0   \n",
       "1                            30.0   \n",
       "2                            30.0   \n",
       "3                            30.0   \n",
       "4                            30.0   \n",
       "...                           ...   \n",
       "376412                       30.5   \n",
       "376413                       30.5   \n",
       "376414                       30.5   \n",
       "376415                       30.5   \n",
       "376416                       30.5   \n",
       "\n",
       "        IMU hand 3D-acceleration data (ms-2), scale +-16g 1  \\\n",
       "0                                                 2.37223     \n",
       "1                                                 2.18837     \n",
       "2                                                 2.37357     \n",
       "3                                                 2.07473     \n",
       "4                                                 2.22936     \n",
       "...                                                   ...     \n",
       "376412                                            2.02477     \n",
       "376413                                            2.10836     \n",
       "376414                                            2.07163     \n",
       "376415                                            2.19569     \n",
       "376416                                            2.14774     \n",
       "\n",
       "        IMU hand 3D-acceleration data (ms-2), scale +-16g 2  \\\n",
       "0                                                 8.60074     \n",
       "1                                                 8.56560     \n",
       "2                                                 8.60107     \n",
       "3                                                 8.52853     \n",
       "4                                                 8.83122     \n",
       "...                                                   ...     \n",
       "376412                                            7.29553     \n",
       "376413                                            7.86504     \n",
       "376414                                            8.39581     \n",
       "376415                                            8.77634     \n",
       "376416                                            8.66047     \n",
       "\n",
       "        IMU hand 3D-acceleration data (ms-2), scale +-16g 3  \\\n",
       "0                                                 3.51048     \n",
       "1                                                 3.66179     \n",
       "2                                                 3.54898     \n",
       "3                                                 3.66021     \n",
       "4                                                 3.70000     \n",
       "...                                                   ...     \n",
       "376412                                            5.74194     \n",
       "376413                                            5.85674     \n",
       "376414                                            5.77742     \n",
       "376415                                            6.00892     \n",
       "376416                                            5.73918     \n",
       "\n",
       "        IMU hand 3D-acceleration data (ms-2), scale +-6g 1  \\\n",
       "0                                                 2.43954    \n",
       "1                                                 2.39494    \n",
       "2                                                 2.30514    \n",
       "3                                                 2.33528    \n",
       "4                                                 2.23055    \n",
       "...                                                   ...    \n",
       "376412                                            2.06573    \n",
       "376413                                            2.08754    \n",
       "376414                                            2.13833    \n",
       "376415                                            2.11251    \n",
       "376416                                            2.15810    \n",
       "\n",
       "        IMU hand 3D-acceleration data (ms-2), scale +-6g 2  \\\n",
       "0                                                 8.76165    \n",
       "1                                                 8.55081    \n",
       "2                                                 8.53644    \n",
       "3                                                 8.53622    \n",
       "4                                                 8.59741    \n",
       "...                                                   ...    \n",
       "376412                                            6.57692    \n",
       "376413                                            7.42244    \n",
       "376414                                            8.05640    \n",
       "376415                                            8.53989    \n",
       "376416                                            8.59995    \n",
       "\n",
       "        IMU hand 3D-acceleration data (ms-2), scale +-6g 3  ...  \\\n",
       "0                                                 3.35465   ...   \n",
       "1                                                 3.64207   ...   \n",
       "2                                                 3.73280   ...   \n",
       "3                                                 3.73277   ...   \n",
       "4                                                 3.76295   ...   \n",
       "...                                                   ...   ...   \n",
       "376412                                            5.92695   ...   \n",
       "376413                                            5.87977   ...   \n",
       "376414                                            5.90853   ...   \n",
       "376415                                            5.93770   ...   \n",
       "376416                                            5.92242   ...   \n",
       "\n",
       "        IMU ankle 3D-gyroscope data (rad/s) 1  \\\n",
       "0                                    0.008300   \n",
       "1                                   -0.006577   \n",
       "2                                    0.003014   \n",
       "3                                    0.003175   \n",
       "4                                    0.012698   \n",
       "...                                       ...   \n",
       "376412                               0.048745   \n",
       "376413                               0.042113   \n",
       "376414                              -0.014889   \n",
       "376415                               0.047026   \n",
       "376416                               0.042585   \n",
       "\n",
       "        IMU ankle 3D-gyroscope data (rad/s) 2  \\\n",
       "0                                    0.009250   \n",
       "1                                   -0.004638   \n",
       "2                                    0.000148   \n",
       "3                                   -0.020301   \n",
       "4                                   -0.014303   \n",
       "...                                       ...   \n",
       "376412                              -0.008034   \n",
       "376413                               0.024647   \n",
       "376414                               0.026009   \n",
       "376415                              -0.035531   \n",
       "376416                               0.017541   \n",
       "\n",
       "        IMU ankle 3D-gyroscope data (rad/s) 3  \\\n",
       "0                                   -0.017580   \n",
       "1                                    0.000368   \n",
       "2                                    0.022495   \n",
       "3                                    0.011275   \n",
       "4                                   -0.002823   \n",
       "...                                       ...   \n",
       "376412                               0.018600   \n",
       "376413                               0.013375   \n",
       "376414                               0.025054   \n",
       "376415                               0.024640   \n",
       "376416                              -0.037893   \n",
       "\n",
       "        IMU ankle 3D-magnetometer (µT) 1  IMU ankle 3D-magnetometer (µT) 2  \\\n",
       "0                               -61.1888                          -38.9599   \n",
       "1                               -59.8479                          -38.8919   \n",
       "2                               -60.7361                          -39.4138   \n",
       "3                               -60.4091                          -38.7635   \n",
       "4                               -61.5199                          -39.3879   \n",
       "...                                  ...                               ...   \n",
       "376412                          -58.8381                          -36.2397   \n",
       "376413                          -58.9537                          -36.3379   \n",
       "376414                          -59.1781                          -35.8985   \n",
       "376415                          -58.8299                          -36.6845   \n",
       "376416                          -59.1707                          -36.7731   \n",
       "\n",
       "        IMU ankle 3D-magnetometer (µT) 3  IMU ankle orientation 1  \\\n",
       "0                               -58.1438                      1.0   \n",
       "1                               -58.5253                      1.0   \n",
       "2                               -58.3999                      1.0   \n",
       "3                               -58.3956                      1.0   \n",
       "4                               -58.2694                      1.0   \n",
       "...                                  ...                      ...   \n",
       "376412                          -11.0980                      1.0   \n",
       "376413                          -11.7170                      1.0   \n",
       "376414                          -10.9678                      1.0   \n",
       "376415                          -10.8553                      1.0   \n",
       "376416                          -11.5961                      1.0   \n",
       "\n",
       "        IMU ankle orientation 2  IMU ankle orientation 3  \\\n",
       "0                           0.0                      0.0   \n",
       "1                           0.0                      0.0   \n",
       "2                           0.0                      0.0   \n",
       "3                           0.0                      0.0   \n",
       "4                           0.0                      0.0   \n",
       "...                         ...                      ...   \n",
       "376412                      0.0                      0.0   \n",
       "376413                      0.0                      0.0   \n",
       "376414                      0.0                      0.0   \n",
       "376415                      0.0                      0.0   \n",
       "376416                      0.0                      0.0   \n",
       "\n",
       "        IMU ankle orientation 4  \n",
       "0                           0.0  \n",
       "1                           0.0  \n",
       "2                           0.0  \n",
       "3                           0.0  \n",
       "4                           0.0  \n",
       "...                         ...  \n",
       "376412                      0.0  \n",
       "376413                      0.0  \n",
       "376414                      0.0  \n",
       "376415                      0.0  \n",
       "376416                      0.0  \n",
       "\n",
       "[376417 rows x 54 columns]"
      ]
     },
     "execution_count": 89,
     "metadata": {},
     "output_type": "execute_result"
    }
   ],
   "source": [
    "protocol_dataframes[\"subject101\"]"
   ]
  },
  {
   "cell_type": "code",
   "execution_count": 55,
   "id": "794e0774-1421-46f1-b904-c0d5b1020a75",
   "metadata": {},
   "outputs": [],
   "source": [
    "def count_activities_per_subject(subject_df):\n",
    "    acts_values_unfiltered = subject_df['activityID'].tolist()\n",
    "    acts_values = []\n",
    "    for i in range(len(acts_values_unfiltered)):\n",
    "        if i == 0 or acts_values_unfiltered[i-1] != acts_values_unfiltered[i] :\n",
    "            acts_values.append(acts_values_unfiltered[i]) \n",
    "    acts_set = set(acts_values)\n",
    "    res = {}\n",
    "    for act in acts_set:\n",
    "        if act != 0:\n",
    "            res[act] = 0\n",
    "    for act in acts_values:\n",
    "        if act != 0:\n",
    "            res[act] = res[act] + 1\n",
    "    return res"
   ]
  },
  {
   "cell_type": "code",
   "execution_count": 56,
   "id": "b3633c80-37c8-4b51-b33d-7dabb89889ce",
   "metadata": {},
   "outputs": [],
   "source": [
    "activity_count = {}\n",
    "for protocol_subject in protocol_subjects:\n",
    "    temp_acts = count_activities_per_subject(dataframes[protocol_subject])\n",
    "    for key in temp_acts.keys():\n",
    "        if key in activity_count.keys():\n",
    "            activity_count[key] += temp_acts[key]\n",
    "        else:\n",
    "            activity_count[key] = temp_acts[key]"
   ]
  },
  {
   "cell_type": "code",
   "execution_count": 57,
   "id": "e4bc361e-6292-41e1-8810-274b2d45ba61",
   "metadata": {},
   "outputs": [
    {
     "data": {
      "text/plain": [
       "{1: 8, 2: 8, 3: 8, 4: 8, 5: 7, 6: 7, 7: 7, 12: 16, 13: 17, 16: 8, 17: 8, 24: 6}"
      ]
     },
     "execution_count": 57,
     "metadata": {},
     "output_type": "execute_result"
    }
   ],
   "source": [
    "activity_count"
   ]
  },
  {
   "cell_type": "code",
   "execution_count": 74,
   "id": "7e47eaa0-db76-47d2-8b40-2229f22302bf",
   "metadata": {},
   "outputs": [],
   "source": [
    "def get_activity_name_by_id(id):\n",
    "    id_to_names = {}\n",
    "    id_to_names[1] = 'lying'\n",
    "    id_to_names[2] = 'sitting'\n",
    "    id_to_names[3] = 'standing'\n",
    "    id_to_names[4] = 'walking'\n",
    "    id_to_names[5] = 'running'\n",
    "    id_to_names[6] = 'cycling'\n",
    "    id_to_names[7] = 'Nordic walking'\n",
    "    id_to_names[9] = 'watching TV'\n",
    "    id_to_names[10] = 'computer work'\n",
    "    id_to_names[11] = 'car driving'\n",
    "    id_to_names[12] = 'ascending stairs'\n",
    "    id_to_names[13] = 'descending stairs'\n",
    "    id_to_names[16] = 'vacuum cleaning'\n",
    "    id_to_names[17] = 'ironing'\n",
    "    id_to_names[18] = 'folding laundry'\n",
    "    id_to_names[19] = 'house cleaning'\n",
    "    id_to_names[20] = 'playing soccer'\n",
    "    id_to_names[24] = 'rope jumping'\n",
    "    id_to_names[0] = 'other'\n",
    "    return id_to_names[id]"
   ]
  },
  {
   "cell_type": "code",
   "execution_count": 77,
   "id": "bbfe43f5-47f5-4b03-88cf-7e88d32e08f5",
   "metadata": {},
   "outputs": [
    {
     "data": {
      "image/png": "[encoded data removed]",
      "text/plain": [
       "<Figure size 1584x756 with 1 Axes>"
      ]
     },
     "metadata": {
      "needs_background": "light"
     },
     "output_type": "display_data"
    }
   ],
   "source": [
    "values = activity_count\n",
    "\n",
    "keys_lst = []\n",
    "count_lst = []\n",
    "for key in values.keys():\n",
    "    keys_lst.append(key)\n",
    "    count_lst.append(values[key])\n",
    "\n",
    "activity_names = [get_activity_name_by_id(act_id) for act_id in keys_lst]\n",
    "\n",
    "fig, ax = plt.subplots()\n",
    "fig.set_size_inches(22, 10.5)\n",
    "\n",
    "bar_labels = keys_lst\n",
    "ax.bar(activity_names, count_lst)\n",
    "ax.set_ylabel('activity measures amount')\n",
    "ax.set_title('activity name')\n",
    "\n",
    "\n",
    "plt.show()\n",
    "\n",
    "# show optional as well"
   ]
  },
  {
   "cell_type": "code",
   "execution_count": 110,
   "id": "3b3d094b-bc62-4987-8730-0e9ec8e87e33",
   "metadata": {},
   "outputs": [],
   "source": [
    "def get_subject_activity(df, activityID):\n",
    "    return df[df['activityID'] == activityID]\n",
    "\n",
    "activity_values_lsts = [list(filter (lambda value: not math.isnan(value), (get_subject_activity(df, activityID=5)['heart rate (bpm)'].tolist()))) for df in protocol_dataframes.values()]"
   ]
  },
  {
   "cell_type": "code",
   "execution_count": null,
   "id": "f39e5748-5d83-4fb7-9431-ac1fb340eef4",
   "metadata": {},
   "outputs": [],
   "source": [
    "set(activity_values_lsts[0])"
   ]
  },
  {
   "cell_type": "code",
   "execution_count": 120,
   "id": "00ba715d-cdb0-4d12-8335-8b14ed91be0d",
   "metadata": {},
   "outputs": [
    {
     "data": {
      "application/vnd.plotly.v1+json": {
       "config": {
        "plotlyServerURL": "https://plot.ly"
       },
       "data": [
        {
         "hovertemplate": "date=%{x}<br>GOOG=%{y}<extra></extra>",
         "legendgroup": "",
         "line": {
          "color": "#636efa",
          "dash": "solid"
         },
         "marker": {
          "symbol": "circle"
         },
         "mode": "lines",
         "name": "",
         "orientation": "v",
         "showlegend": false,
         "type": "scatter",
         "x": [
          "2018-01-01",
          "2018-01-08",
          "2018-01-15",
          "2018-01-22",
          "2018-01-29",
          "2018-02-05",
          "2018-02-12",
          "2018-02-19",
          "2018-02-26",
          "2018-03-05",
          "2018-03-12",
          "2018-03-19",
          "2018-03-26",
          "2018-04-02",
          "2018-04-09",
          "2018-04-16",
          "2018-04-23",
          "2018-04-30",
          "2018-05-07",
          "2018-05-14",
          "2018-05-21",
          "2018-05-28",
          "2018-06-04",
          "2018-06-11",
          "2018-06-18",
          "2018-06-25",
          "2018-07-02",
          "2018-07-09",
          "2018-07-16",
          "2018-07-23",
          "2018-07-30",
          "2018-08-06",
          "2018-08-13",
          "2018-08-20",
          "2018-08-27",
          "2018-09-03",
          "2018-09-10",
          "2018-09-17",
          "2018-09-24",
          "2018-10-01",
          "2018-10-08",
          "2018-10-15",
          "2018-10-22",
          "2018-10-29",
          "2018-11-05",
          "2018-11-12",
          "2018-11-19",
          "2018-11-26",
          "2018-12-03",
          "2018-12-10",
          "2018-12-17",
          "2018-12-24",
          "2018-12-31",
          "2019-01-07",
          "2019-01-14",
          "2019-01-21",
          "2019-01-28",
          "2019-02-04",
          "2019-02-11",
          "2019-02-18",
          "2019-02-25",
          "2019-03-04",
          "2019-03-11",
          "2019-03-18",
          "2019-03-25",
          "2019-04-01",
          "2019-04-08",
          "2019-04-15",
          "2019-04-22",
          "2019-04-29",
          "2019-05-06",
          "2019-05-13",
          "2019-05-20",
          "2019-05-27",
          "2019-06-03",
          "2019-06-10",
          "2019-06-17",
          "2019-06-24",
          "2019-07-01",
          "2019-07-08",
          "2019-07-15",
          "2019-07-22",
          "2019-07-29",
          "2019-08-05",
          "2019-08-12",
          "2019-08-19",
          "2019-08-26",
          "2019-09-02",
          "2019-09-09",
          "2019-09-16",
          "2019-09-23",
          "2019-09-30",
          "2019-10-07",
          "2019-10-14",
          "2019-10-21",
          "2019-10-28",
          "2019-11-04",
          "2019-11-11",
          "2019-11-18",
          "2019-11-25",
          "2019-12-02",
          "2019-12-09",
          "2019-12-16",
          "2019-12-23",
          "2019-12-30"
         ],
         "xaxis": "x",
         "y": [
          1,
          1.018172278347936,
          1.032007866452698,
          1.066782783389724,
          1.0087731636550117,
          0.9415276737437316,
          0.99325918262539,
          1.0222821547641083,
          0.9788520214265992,
          1.0524482730908842,
          1.0303929312465263,
          0.926821104067592,
          0.9360932452590338,
          0.913638710861412,
          0.93380695379017,
          0.9734447261178653,
          0.9345146364100892,
          0.9509902470625956,
          0.9963982380519172,
          0.9674568868105002,
          0.9758943718805396,
          1.015668254641377,
          1.0169111849053498,
          1.0453898287179595,
          1.0483111519067918,
          1.0121753574512644,
          1.0344211867653972,
          1.0785588920381208,
          1.075011617811375,
          1.1236312044424703,
          1.1102129167272332,
          1.1228237368393843,
          1.0895729410299655,
          1.1074367837463466,
          1.1052048693141154,
          1.0567939333314087,
          1.0637798374890872,
          1.0579370795194665,
          1.0827776350267664,
          1.0500077089175164,
          1.007121903906116,
          0.9947651405743836,
          0.9720929301886708,
          0.959681788913054,
          0.9672663993407256,
          0.9630385756700248,
          0.9289168536315806,
          0.992923504040418,
          0.9404389054995582,
          0.945446952912676,
          0.8886892896888904,
          0.9408925313390586,
          0.9714034098401132,
          0.9591373489949891,
          0.9963982380519172,
          0.989802500200548,
          1.0077298024501202,
          0.9934950771344468,
          1.0103608540932627,
          1.0073850422758417,
          1.035165084150587,
          1.0363716889645844,
          1.0746032883264525,
          1.0936918990354445,
          1.064487521016258,
          1.095188886079836,
          1.1049145977684258,
          1.1216987538299403,
          1.1541874899828073,
          1.075456162061569,
          1.0562859304552756,
          1.0544986709579427,
          1.0283425342867192,
          1.001270175031893,
          0.9671666152648106,
          0.98468558802946,
          1.0178275181736574,
          0.980657443195294,
          1.0266368965939394,
          1.0387124690620373,
          1.025285100664745,
          1.1344366027859267,
          1.0832494231376286,
          1.0778240762422375,
          1.068379555417282,
          1.0445098208996275,
          1.0779056980467905,
          1.0931748145700046,
          1.12459294475006,
          1.115856106545024,
          1.1114649285805127,
          1.0968672799119472,
          1.10271900878617,
          1.129972884606169,
          1.1477913211905195,
          1.155602744537941,
          1.189742629754999,
          1.2110630442115171,
          1.1751993590303178,
          1.183927115646047,
          1.216279741365772,
          1.222820990588552,
          1.22441776261611,
          1.2265044859331442,
          1.213013658002661
         ],
         "yaxis": "y"
        }
       ],
       "layout": {
        "legend": {
         "tracegroupgap": 0
        },
        "margin": {
         "t": 60
        },
        "template": {
         "data": {
          "bar": [
           {
            "error_x": {
             "color": "#2a3f5f"
            },
            "error_y": {
             "color": "#2a3f5f"
            },
            "marker": {
             "line": {
              "color": "#E5ECF6",
              "width": 0.5
             },
             "pattern": {
              "fillmode": "overlay",
              "size": 10,
              "solidity": 0.2
             }
            },
            "type": "bar"
           }
          ],
          "barpolar": [
           {
            "marker": {
             "line": {
              "color": "#E5ECF6",
              "width": 0.5
             },
             "pattern": {
              "fillmode": "overlay",
              "size": 10,
              "solidity": 0.2
             }
            },
            "type": "barpolar"
           }
          ],
          "carpet": [
           {
            "aaxis": {
             "endlinecolor": "#2a3f5f",
             "gridcolor": "white",
             "linecolor": "white",
             "minorgridcolor": "white",
             "startlinecolor": "#2a3f5f"
            },
            "baxis": {
             "endlinecolor": "#2a3f5f",
             "gridcolor": "white",
             "linecolor": "white",
             "minorgridcolor": "white",
             "startlinecolor": "#2a3f5f"
            },
            "type": "carpet"
           }
          ],
          "choropleth": [
           {
            "colorbar": {
             "outlinewidth": 0,
             "ticks": ""
            },
            "type": "choropleth"
           }
          ],
          "contour": [
           {
            "colorbar": {
             "outlinewidth": 0,
             "ticks": ""
            },
            "colorscale": [
             [
              0,
              "#0d0887"
             ],
             [
              0.1111111111111111,
              "#46039f"
             ],
             [
              0.2222222222222222,
              "#7201a8"
             ],
             [
              0.3333333333333333,
              "#9c179e"
             ],
             [
              0.4444444444444444,
              "#bd3786"
             ],
             [
              0.5555555555555556,
              "#d8576b"
             ],
             [
              0.6666666666666666,
              "#ed7953"
             ],
             [
              0.7777777777777778,
              "#fb9f3a"
             ],
             [
              0.8888888888888888,
              "#fdca26"
             ],
             [
              1,
              "#f0f921"
             ]
            ],
            "type": "contour"
           }
          ],
          "contourcarpet": [
           {
            "colorbar": {
             "outlinewidth": 0,
             "ticks": ""
            },
            "type": "contourcarpet"
           }
          ],
          "heatmap": [
           {
            "colorbar": {
             "outlinewidth": 0,
             "ticks": ""
            },
            "colorscale": [
             [
              0,
              "#0d0887"
             ],
             [
              0.1111111111111111,
              "#46039f"
             ],
             [
              0.2222222222222222,
              "#7201a8"
             ],
             [
              0.3333333333333333,
              "#9c179e"
             ],
             [
              0.4444444444444444,
              "#bd3786"
             ],
             [
              0.5555555555555556,
              "#d8576b"
             ],
             [
              0.6666666666666666,
              "#ed7953"
             ],
             [
              0.7777777777777778,
              "#fb9f3a"
             ],
             [
              0.8888888888888888,
              "#fdca26"
             ],
             [
              1,
              "#f0f921"
             ]
            ],
            "type": "heatmap"
           }
          ],
          "heatmapgl": [
           {
            "colorbar": {
             "outlinewidth": 0,
             "ticks": ""
            },
            "colorscale": [
             [
              0,
              "#0d0887"
             ],
             [
              0.1111111111111111,
              "#46039f"
             ],
             [
              0.2222222222222222,
              "#7201a8"
             ],
             [
              0.3333333333333333,
              "#9c179e"
             ],
             [
              0.4444444444444444,
              "#bd3786"
             ],
             [
              0.5555555555555556,
              "#d8576b"
             ],
             [
              0.6666666666666666,
              "#ed7953"
             ],
             [
              0.7777777777777778,
              "#fb9f3a"
             ],
             [
              0.8888888888888888,
              "#fdca26"
             ],
             [
              1,
              "#f0f921"
             ]
            ],
            "type": "heatmapgl"
           }
          ],
          "histogram": [
           {
            "marker": {
             "pattern": {
              "fillmode": "overlay",
              "size": 10,
              "solidity": 0.2
             }
            },
            "type": "histogram"
           }
          ],
          "histogram2d": [
           {
            "colorbar": {
             "outlinewidth": 0,
             "ticks": ""
            },
            "colorscale": [
             [
              0,
              "#0d0887"
             ],
             [
              0.1111111111111111,
              "#46039f"
             ],
             [
              0.2222222222222222,
              "#7201a8"
             ],
             [
              0.3333333333333333,
              "#9c179e"
             ],
             [
              0.4444444444444444,
              "#bd3786"
             ],
             [
              0.5555555555555556,
              "#d8576b"
             ],
             [
              0.6666666666666666,
              "#ed7953"
             ],
             [
              0.7777777777777778,
              "#fb9f3a"
             ],
             [
              0.8888888888888888,
              "#fdca26"
             ],
             [
              1,
              "#f0f921"
             ]
            ],
            "type": "histogram2d"
           }
          ],
          "histogram2dcontour": [
           {
            "colorbar": {
             "outlinewidth": 0,
             "ticks": ""
            },
            "colorscale": [
             [
              0,
              "#0d0887"
             ],
             [
              0.1111111111111111,
              "#46039f"
             ],
             [
              0.2222222222222222,
              "#7201a8"
             ],
             [
              0.3333333333333333,
              "#9c179e"
             ],
             [
              0.4444444444444444,
              "#bd3786"
             ],
             [
              0.5555555555555556,
              "#d8576b"
             ],
             [
              0.6666666666666666,
              "#ed7953"
             ],
             [
              0.7777777777777778,
              "#fb9f3a"
             ],
             [
              0.8888888888888888,
              "#fdca26"
             ],
             [
              1,
              "#f0f921"
             ]
            ],
            "type": "histogram2dcontour"
           }
          ],
          "mesh3d": [
           {
            "colorbar": {
             "outlinewidth": 0,
             "ticks": ""
            },
            "type": "mesh3d"
           }
          ],
          "parcoords": [
           {
            "line": {
             "colorbar": {
              "outlinewidth": 0,
              "ticks": ""
             }
            },
            "type": "parcoords"
           }
          ],
          "pie": [
           {
            "automargin": true,
            "type": "pie"
           }
          ],
          "scatter": [
           {
            "fillpattern": {
             "fillmode": "overlay",
             "size": 10,
             "solidity": 0.2
            },
            "type": "scatter"
           }
          ],
          "scatter3d": [
           {
            "line": {
             "colorbar": {
              "outlinewidth": 0,
              "ticks": ""
             }
            },
            "marker": {
             "colorbar": {
              "outlinewidth": 0,
              "ticks": ""
             }
            },
            "type": "scatter3d"
           }
          ],
          "scattercarpet": [
           {
            "marker": {
             "colorbar": {
              "outlinewidth": 0,
              "ticks": ""
             }
            },
            "type": "scattercarpet"
           }
          ],
          "scattergeo": [
           {
            "marker": {
             "colorbar": {
              "outlinewidth": 0,
              "ticks": ""
             }
            },
            "type": "scattergeo"
           }
          ],
          "scattergl": [
           {
            "marker": {
             "colorbar": {
              "outlinewidth": 0,
              "ticks": ""
             }
            },
            "type": "scattergl"
           }
          ],
          "scattermapbox": [
           {
            "marker": {
             "colorbar": {
              "outlinewidth": 0,
              "ticks": ""
             }
            },
            "type": "scattermapbox"
           }
          ],
          "scatterpolar": [
           {
            "marker": {
             "colorbar": {
              "outlinewidth": 0,
              "ticks": ""
             }
            },
            "type": "scatterpolar"
           }
          ],
          "scatterpolargl": [
           {
            "marker": {
             "colorbar": {
              "outlinewidth": 0,
              "ticks": ""
             }
            },
            "type": "scatterpolargl"
           }
          ],
          "scatterternary": [
           {
            "marker": {
             "colorbar": {
              "outlinewidth": 0,
              "ticks": ""
             }
            },
            "type": "scatterternary"
           }
          ],
          "surface": [
           {
            "colorbar": {
             "outlinewidth": 0,
             "ticks": ""
            },
            "colorscale": [
             [
              0,
              "#0d0887"
             ],
             [
              0.1111111111111111,
              "#46039f"
             ],
             [
              0.2222222222222222,
              "#7201a8"
             ],
             [
              0.3333333333333333,
              "#9c179e"
             ],
             [
              0.4444444444444444,
              "#bd3786"
             ],
             [
              0.5555555555555556,
              "#d8576b"
             ],
             [
              0.6666666666666666,
              "#ed7953"
             ],
             [
              0.7777777777777778,
              "#fb9f3a"
             ],
             [
              0.8888888888888888,
              "#fdca26"
             ],
             [
              1,
              "#f0f921"
             ]
            ],
            "type": "surface"
           }
          ],
          "table": [
           {
            "cells": {
             "fill": {
              "color": "#EBF0F8"
             },
             "line": {
              "color": "white"
             }
            },
            "header": {
             "fill": {
              "color": "#C8D4E3"
             },
             "line": {
              "color": "white"
             }
            },
            "type": "table"
           }
          ]
         },
         "layout": {
          "annotationdefaults": {
           "arrowcolor": "#2a3f5f",
           "arrowhead": 0,
           "arrowwidth": 1
          },
          "autotypenumbers": "strict",
          "coloraxis": {
           "colorbar": {
            "outlinewidth": 0,
            "ticks": ""
           }
          },
          "colorscale": {
           "diverging": [
            [
             0,
             "#8e0152"
            ],
            [
             0.1,
             "#c51b7d"
            ],
            [
             0.2,
             "#de77ae"
            ],
            [
             0.3,
             "#f1b6da"
            ],
            [
             0.4,
             "#fde0ef"
            ],
            [
             0.5,
             "#f7f7f7"
            ],
            [
             0.6,
             "#e6f5d0"
            ],
            [
             0.7,
             "#b8e186"
            ],
            [
             0.8,
             "#7fbc41"
            ],
            [
             0.9,
             "#4d9221"
            ],
            [
             1,
             "#276419"
            ]
           ],
           "sequential": [
            [
             0,
             "#0d0887"
            ],
            [
             0.1111111111111111,
             "#46039f"
            ],
            [
             0.2222222222222222,
             "#7201a8"
            ],
            [
             0.3333333333333333,
             "#9c179e"
            ],
            [
             0.4444444444444444,
             "#bd3786"
            ],
            [
             0.5555555555555556,
             "#d8576b"
            ],
            [
             0.6666666666666666,
             "#ed7953"
            ],
            [
             0.7777777777777778,
             "#fb9f3a"
            ],
            [
             0.8888888888888888,
             "#fdca26"
            ],
            [
             1,
             "#f0f921"
            ]
           ],
           "sequentialminus": [
            [
             0,
             "#0d0887"
            ],
            [
             0.1111111111111111,
             "#46039f"
            ],
            [
             0.2222222222222222,
             "#7201a8"
            ],
            [
             0.3333333333333333,
             "#9c179e"
            ],
            [
             0.4444444444444444,
             "#bd3786"
            ],
            [
             0.5555555555555556,
             "#d8576b"
            ],
            [
             0.6666666666666666,
             "#ed7953"
            ],
            [
             0.7777777777777778,
             "#fb9f3a"
            ],
            [
             0.8888888888888888,
             "#fdca26"
            ],
            [
             1,
             "#f0f921"
            ]
           ]
          },
          "colorway": [
           "#636efa",
           "#EF553B",
           "#00cc96",
           "#ab63fa",
           "#FFA15A",
           "#19d3f3",
           "#FF6692",
           "#B6E880",
           "#FF97FF",
           "#FECB52"
          ],
          "font": {
           "color": "#2a3f5f"
          },
          "geo": {
           "bgcolor": "white",
           "lakecolor": "white",
           "landcolor": "#E5ECF6",
           "showlakes": true,
           "showland": true,
           "subunitcolor": "white"
          },
          "hoverlabel": {
           "align": "left"
          },
          "hovermode": "closest",
          "mapbox": {
           "style": "light"
          },
          "paper_bgcolor": "white",
          "plot_bgcolor": "#E5ECF6",
          "polar": {
           "angularaxis": {
            "gridcolor": "white",
            "linecolor": "white",
            "ticks": ""
           },
           "bgcolor": "#E5ECF6",
           "radialaxis": {
            "gridcolor": "white",
            "linecolor": "white",
            "ticks": ""
           }
          },
          "scene": {
           "xaxis": {
            "backgroundcolor": "#E5ECF6",
            "gridcolor": "white",
            "gridwidth": 2,
            "linecolor": "white",
            "showbackground": true,
            "ticks": "",
            "zerolinecolor": "white"
           },
           "yaxis": {
            "backgroundcolor": "#E5ECF6",
            "gridcolor": "white",
            "gridwidth": 2,
            "linecolor": "white",
            "showbackground": true,
            "ticks": "",
            "zerolinecolor": "white"
           },
           "zaxis": {
            "backgroundcolor": "#E5ECF6",
            "gridcolor": "white",
            "gridwidth": 2,
            "linecolor": "white",
            "showbackground": true,
            "ticks": "",
            "zerolinecolor": "white"
           }
          },
          "shapedefaults": {
           "line": {
            "color": "#2a3f5f"
           }
          },
          "ternary": {
           "aaxis": {
            "gridcolor": "white",
            "linecolor": "white",
            "ticks": ""
           },
           "baxis": {
            "gridcolor": "white",
            "linecolor": "white",
            "ticks": ""
           },
           "bgcolor": "#E5ECF6",
           "caxis": {
            "gridcolor": "white",
            "linecolor": "white",
            "ticks": ""
           }
          },
          "title": {
           "x": 0.05
          },
          "xaxis": {
           "automargin": true,
           "gridcolor": "white",
           "linecolor": "white",
           "ticks": "",
           "title": {
            "standoff": 15
           },
           "zerolinecolor": "white",
           "zerolinewidth": 2
          },
          "yaxis": {
           "automargin": true,
           "gridcolor": "white",
           "linecolor": "white",
           "ticks": "",
           "title": {
            "standoff": 15
           },
           "zerolinecolor": "white",
           "zerolinewidth": 2
          }
         }
        },
        "xaxis": {
         "anchor": "y",
         "domain": [
          0,
          1
         ],
         "title": {
          "text": "date"
         }
        },
        "yaxis": {
         "anchor": "x",
         "domain": [
          0,
          1
         ],
         "title": {
          "text": "GOOG"
         }
        }
       }
      },
      "text/html": [
       "<div>                            <div id=\"615638e9-c502-4bde-a9b5-245d43aeec76\" class=\"plotly-graph-div\" style=\"height:525px; width:100%;\"></div>            <script type=\"text/javascript\">                require([\"plotly\"], function(Plotly) {                    window.PLOTLYENV=window.PLOTLYENV || {};                                    if (document.getElementById(\"615638e9-c502-4bde-a9b5-245d43aeec76\")) {                    Plotly.newPlot(                        \"615638e9-c502-4bde-a9b5-245d43aeec76\",                        [{\"hovertemplate\":\"date=%{x}<br>GOOG=%{y}<extra></extra>\",\"legendgroup\":\"\",\"line\":{\"color\":\"#636efa\",\"dash\":\"solid\"},\"marker\":{\"symbol\":\"circle\"},\"mode\":\"lines\",\"name\":\"\",\"orientation\":\"v\",\"showlegend\":false,\"x\":[\"2018-01-01\",\"2018-01-08\",\"2018-01-15\",\"2018-01-22\",\"2018-01-29\",\"2018-02-05\",\"2018-02-12\",\"2018-02-19\",\"2018-02-26\",\"2018-03-05\",\"2018-03-12\",\"2018-03-19\",\"2018-03-26\",\"2018-04-02\",\"2018-04-09\",\"2018-04-16\",\"2018-04-23\",\"2018-04-30\",\"2018-05-07\",\"2018-05-14\",\"2018-05-21\",\"2018-05-28\",\"2018-06-04\",\"2018-06-11\",\"2018-06-18\",\"2018-06-25\",\"2018-07-02\",\"2018-07-09\",\"2018-07-16\",\"2018-07-23\",\"2018-07-30\",\"2018-08-06\",\"2018-08-13\",\"2018-08-20\",\"2018-08-27\",\"2018-09-03\",\"2018-09-10\",\"2018-09-17\",\"2018-09-24\",\"2018-10-01\",\"2018-10-08\",\"2018-10-15\",\"2018-10-22\",\"2018-10-29\",\"2018-11-05\",\"2018-11-12\",\"2018-11-19\",\"2018-11-26\",\"2018-12-03\",\"2018-12-10\",\"2018-12-17\",\"2018-12-24\",\"2018-12-31\",\"2019-01-07\",\"2019-01-14\",\"2019-01-21\",\"2019-01-28\",\"2019-02-04\",\"2019-02-11\",\"2019-02-18\",\"2019-02-25\",\"2019-03-04\",\"2019-03-11\",\"2019-03-18\",\"2019-03-25\",\"2019-04-01\",\"2019-04-08\",\"2019-04-15\",\"2019-04-22\",\"2019-04-29\",\"2019-05-06\",\"2019-05-13\",\"2019-05-20\",\"2019-05-27\",\"2019-06-03\",\"2019-06-10\",\"2019-06-17\",\"2019-06-24\",\"2019-07-01\",\"2019-07-08\",\"2019-07-15\",\"2019-07-22\",\"2019-07-29\",\"2019-08-05\",\"2019-08-12\",\"2019-08-19\",\"2019-08-26\",\"2019-09-02\",\"2019-09-09\",\"2019-09-16\",\"2019-09-23\",\"2019-09-30\",\"2019-10-07\",\"2019-10-14\",\"2019-10-21\",\"2019-10-28\",\"2019-11-04\",\"2019-11-11\",\"2019-11-18\",\"2019-11-25\",\"2019-12-02\",\"2019-12-09\",\"2019-12-16\",\"2019-12-23\",\"2019-12-30\"],\"xaxis\":\"x\",\"y\":[1.0,1.018172278347936,1.032007866452698,1.066782783389724,1.0087731636550117,0.9415276737437316,0.99325918262539,1.0222821547641083,0.9788520214265992,1.0524482730908842,1.0303929312465263,0.926821104067592,0.9360932452590338,0.913638710861412,0.93380695379017,0.9734447261178653,0.9345146364100892,0.9509902470625956,0.9963982380519172,0.9674568868105002,0.9758943718805396,1.015668254641377,1.0169111849053498,1.0453898287179595,1.0483111519067918,1.0121753574512644,1.0344211867653972,1.0785588920381208,1.075011617811375,1.1236312044424703,1.1102129167272332,1.1228237368393843,1.0895729410299655,1.1074367837463466,1.1052048693141154,1.0567939333314087,1.0637798374890872,1.0579370795194665,1.0827776350267664,1.0500077089175164,1.007121903906116,0.9947651405743836,0.9720929301886708,0.959681788913054,0.9672663993407256,0.9630385756700248,0.9289168536315806,0.992923504040418,0.9404389054995582,0.945446952912676,0.8886892896888904,0.9408925313390586,0.9714034098401132,0.9591373489949891,0.9963982380519172,0.989802500200548,1.0077298024501202,0.9934950771344468,1.0103608540932627,1.0073850422758417,1.035165084150587,1.0363716889645844,1.0746032883264525,1.0936918990354445,1.064487521016258,1.095188886079836,1.1049145977684258,1.1216987538299403,1.1541874899828073,1.075456162061569,1.0562859304552756,1.0544986709579427,1.0283425342867192,1.001270175031893,0.9671666152648106,0.98468558802946,1.0178275181736574,0.980657443195294,1.0266368965939394,1.0387124690620373,1.025285100664745,1.1344366027859267,1.0832494231376286,1.0778240762422375,1.068379555417282,1.0445098208996275,1.0779056980467905,1.0931748145700046,1.12459294475006,1.115856106545024,1.1114649285805127,1.0968672799119472,1.10271900878617,1.129972884606169,1.1477913211905195,1.155602744537941,1.189742629754999,1.2110630442115171,1.1751993590303178,1.183927115646047,1.216279741365772,1.222820990588552,1.22441776261611,1.2265044859331442,1.213013658002661],\"yaxis\":\"y\",\"type\":\"scatter\"}],                        {\"template\":{\"data\":{\"histogram2dcontour\":[{\"type\":\"histogram2dcontour\",\"colorbar\":{\"outlinewidth\":0,\"ticks\":\"\"},\"colorscale\":[[0.0,\"#0d0887\"],[0.1111111111111111,\"#46039f\"],[0.2222222222222222,\"#7201a8\"],[0.3333333333333333,\"#9c179e\"],[0.4444444444444444,\"#bd3786\"],[0.5555555555555556,\"#d8576b\"],[0.6666666666666666,\"#ed7953\"],[0.7777777777777778,\"#fb9f3a\"],[0.8888888888888888,\"#fdca26\"],[1.0,\"#f0f921\"]]}],\"choropleth\":[{\"type\":\"choropleth\",\"colorbar\":{\"outlinewidth\":0,\"ticks\":\"\"}}],\"histogram2d\":[{\"type\":\"histogram2d\",\"colorbar\":{\"outlinewidth\":0,\"ticks\":\"\"},\"colorscale\":[[0.0,\"#0d0887\"],[0.1111111111111111,\"#46039f\"],[0.2222222222222222,\"#7201a8\"],[0.3333333333333333,\"#9c179e\"],[0.4444444444444444,\"#bd3786\"],[0.5555555555555556,\"#d8576b\"],[0.6666666666666666,\"#ed7953\"],[0.7777777777777778,\"#fb9f3a\"],[0.8888888888888888,\"#fdca26\"],[1.0,\"#f0f921\"]]}],\"heatmap\":[{\"type\":\"heatmap\",\"colorbar\":{\"outlinewidth\":0,\"ticks\":\"\"},\"colorscale\":[[0.0,\"#0d0887\"],[0.1111111111111111,\"#46039f\"],[0.2222222222222222,\"#7201a8\"],[0.3333333333333333,\"#9c179e\"],[0.4444444444444444,\"#bd3786\"],[0.5555555555555556,\"#d8576b\"],[0.6666666666666666,\"#ed7953\"],[0.7777777777777778,\"#fb9f3a\"],[0.8888888888888888,\"#fdca26\"],[1.0,\"#f0f921\"]]}],\"heatmapgl\":[{\"type\":\"heatmapgl\",\"colorbar\":{\"outlinewidth\":0,\"ticks\":\"\"},\"colorscale\":[[0.0,\"#0d0887\"],[0.1111111111111111,\"#46039f\"],[0.2222222222222222,\"#7201a8\"],[0.3333333333333333,\"#9c179e\"],[0.4444444444444444,\"#bd3786\"],[0.5555555555555556,\"#d8576b\"],[0.6666666666666666,\"#ed7953\"],[0.7777777777777778,\"#fb9f3a\"],[0.8888888888888888,\"#fdca26\"],[1.0,\"#f0f921\"]]}],\"contourcarpet\":[{\"type\":\"contourcarpet\",\"colorbar\":{\"outlinewidth\":0,\"ticks\":\"\"}}],\"contour\":[{\"type\":\"contour\",\"colorbar\":{\"outlinewidth\":0,\"ticks\":\"\"},\"colorscale\":[[0.0,\"#0d0887\"],[0.1111111111111111,\"#46039f\"],[0.2222222222222222,\"#7201a8\"],[0.3333333333333333,\"#9c179e\"],[0.4444444444444444,\"#bd3786\"],[0.5555555555555556,\"#d8576b\"],[0.6666666666666666,\"#ed7953\"],[0.7777777777777778,\"#fb9f3a\"],[0.8888888888888888,\"#fdca26\"],[1.0,\"#f0f921\"]]}],\"surface\":[{\"type\":\"surface\",\"colorbar\":{\"outlinewidth\":0,\"ticks\":\"\"},\"colorscale\":[[0.0,\"#0d0887\"],[0.1111111111111111,\"#46039f\"],[0.2222222222222222,\"#7201a8\"],[0.3333333333333333,\"#9c179e\"],[0.4444444444444444,\"#bd3786\"],[0.5555555555555556,\"#d8576b\"],[0.6666666666666666,\"#ed7953\"],[0.7777777777777778,\"#fb9f3a\"],[0.8888888888888888,\"#fdca26\"],[1.0,\"#f0f921\"]]}],\"mesh3d\":[{\"type\":\"mesh3d\",\"colorbar\":{\"outlinewidth\":0,\"ticks\":\"\"}}],\"scatter\":[{\"fillpattern\":{\"fillmode\":\"overlay\",\"size\":10,\"solidity\":0.2},\"type\":\"scatter\"}],\"parcoords\":[{\"type\":\"parcoords\",\"line\":{\"colorbar\":{\"outlinewidth\":0,\"ticks\":\"\"}}}],\"scatterpolargl\":[{\"type\":\"scatterpolargl\",\"marker\":{\"colorbar\":{\"outlinewidth\":0,\"ticks\":\"\"}}}],\"bar\":[{\"error_x\":{\"color\":\"#2a3f5f\"},\"error_y\":{\"color\":\"#2a3f5f\"},\"marker\":{\"line\":{\"color\":\"#E5ECF6\",\"width\":0.5},\"pattern\":{\"fillmode\":\"overlay\",\"size\":10,\"solidity\":0.2}},\"type\":\"bar\"}],\"scattergeo\":[{\"type\":\"scattergeo\",\"marker\":{\"colorbar\":{\"outlinewidth\":0,\"ticks\":\"\"}}}],\"scatterpolar\":[{\"type\":\"scatterpolar\",\"marker\":{\"colorbar\":{\"outlinewidth\":0,\"ticks\":\"\"}}}],\"histogram\":[{\"marker\":{\"pattern\":{\"fillmode\":\"overlay\",\"size\":10,\"solidity\":0.2}},\"type\":\"histogram\"}],\"scattergl\":[{\"type\":\"scattergl\",\"marker\":{\"colorbar\":{\"outlinewidth\":0,\"ticks\":\"\"}}}],\"scatter3d\":[{\"type\":\"scatter3d\",\"line\":{\"colorbar\":{\"outlinewidth\":0,\"ticks\":\"\"}},\"marker\":{\"colorbar\":{\"outlinewidth\":0,\"ticks\":\"\"}}}],\"scattermapbox\":[{\"type\":\"scattermapbox\",\"marker\":{\"colorbar\":{\"outlinewidth\":0,\"ticks\":\"\"}}}],\"scatterternary\":[{\"type\":\"scatterternary\",\"marker\":{\"colorbar\":{\"outlinewidth\":0,\"ticks\":\"\"}}}],\"scattercarpet\":[{\"type\":\"scattercarpet\",\"marker\":{\"colorbar\":{\"outlinewidth\":0,\"ticks\":\"\"}}}],\"carpet\":[{\"aaxis\":{\"endlinecolor\":\"#2a3f5f\",\"gridcolor\":\"white\",\"linecolor\":\"white\",\"minorgridcolor\":\"white\",\"startlinecolor\":\"#2a3f5f\"},\"baxis\":{\"endlinecolor\":\"#2a3f5f\",\"gridcolor\":\"white\",\"linecolor\":\"white\",\"minorgridcolor\":\"white\",\"startlinecolor\":\"#2a3f5f\"},\"type\":\"carpet\"}],\"table\":[{\"cells\":{\"fill\":{\"color\":\"#EBF0F8\"},\"line\":{\"color\":\"white\"}},\"header\":{\"fill\":{\"color\":\"#C8D4E3\"},\"line\":{\"color\":\"white\"}},\"type\":\"table\"}],\"barpolar\":[{\"marker\":{\"line\":{\"color\":\"#E5ECF6\",\"width\":0.5},\"pattern\":{\"fillmode\":\"overlay\",\"size\":10,\"solidity\":0.2}},\"type\":\"barpolar\"}],\"pie\":[{\"automargin\":true,\"type\":\"pie\"}]},\"layout\":{\"autotypenumbers\":\"strict\",\"colorway\":[\"#636efa\",\"#EF553B\",\"#00cc96\",\"#ab63fa\",\"#FFA15A\",\"#19d3f3\",\"#FF6692\",\"#B6E880\",\"#FF97FF\",\"#FECB52\"],\"font\":{\"color\":\"#2a3f5f\"},\"hovermode\":\"closest\",\"hoverlabel\":{\"align\":\"left\"},\"paper_bgcolor\":\"white\",\"plot_bgcolor\":\"#E5ECF6\",\"polar\":{\"bgcolor\":\"#E5ECF6\",\"angularaxis\":{\"gridcolor\":\"white\",\"linecolor\":\"white\",\"ticks\":\"\"},\"radialaxis\":{\"gridcolor\":\"white\",\"linecolor\":\"white\",\"ticks\":\"\"}},\"ternary\":{\"bgcolor\":\"#E5ECF6\",\"aaxis\":{\"gridcolor\":\"white\",\"linecolor\":\"white\",\"ticks\":\"\"},\"baxis\":{\"gridcolor\":\"white\",\"linecolor\":\"white\",\"ticks\":\"\"},\"caxis\":{\"gridcolor\":\"white\",\"linecolor\":\"white\",\"ticks\":\"\"}},\"coloraxis\":{\"colorbar\":{\"outlinewidth\":0,\"ticks\":\"\"}},\"colorscale\":{\"sequential\":[[0.0,\"#0d0887\"],[0.1111111111111111,\"#46039f\"],[0.2222222222222222,\"#7201a8\"],[0.3333333333333333,\"#9c179e\"],[0.4444444444444444,\"#bd3786\"],[0.5555555555555556,\"#d8576b\"],[0.6666666666666666,\"#ed7953\"],[0.7777777777777778,\"#fb9f3a\"],[0.8888888888888888,\"#fdca26\"],[1.0,\"#f0f921\"]],\"sequentialminus\":[[0.0,\"#0d0887\"],[0.1111111111111111,\"#46039f\"],[0.2222222222222222,\"#7201a8\"],[0.3333333333333333,\"#9c179e\"],[0.4444444444444444,\"#bd3786\"],[0.5555555555555556,\"#d8576b\"],[0.6666666666666666,\"#ed7953\"],[0.7777777777777778,\"#fb9f3a\"],[0.8888888888888888,\"#fdca26\"],[1.0,\"#f0f921\"]],\"diverging\":[[0,\"#8e0152\"],[0.1,\"#c51b7d\"],[0.2,\"#de77ae\"],[0.3,\"#f1b6da\"],[0.4,\"#fde0ef\"],[0.5,\"#f7f7f7\"],[0.6,\"#e6f5d0\"],[0.7,\"#b8e186\"],[0.8,\"#7fbc41\"],[0.9,\"#4d9221\"],[1,\"#276419\"]]},\"xaxis\":{\"gridcolor\":\"white\",\"linecolor\":\"white\",\"ticks\":\"\",\"title\":{\"standoff\":15},\"zerolinecolor\":\"white\",\"automargin\":true,\"zerolinewidth\":2},\"yaxis\":{\"gridcolor\":\"white\",\"linecolor\":\"white\",\"ticks\":\"\",\"title\":{\"standoff\":15},\"zerolinecolor\":\"white\",\"automargin\":true,\"zerolinewidth\":2},\"scene\":{\"xaxis\":{\"backgroundcolor\":\"#E5ECF6\",\"gridcolor\":\"white\",\"linecolor\":\"white\",\"showbackground\":true,\"ticks\":\"\",\"zerolinecolor\":\"white\",\"gridwidth\":2},\"yaxis\":{\"backgroundcolor\":\"#E5ECF6\",\"gridcolor\":\"white\",\"linecolor\":\"white\",\"showbackground\":true,\"ticks\":\"\",\"zerolinecolor\":\"white\",\"gridwidth\":2},\"zaxis\":{\"backgroundcolor\":\"#E5ECF6\",\"gridcolor\":\"white\",\"linecolor\":\"white\",\"showbackground\":true,\"ticks\":\"\",\"zerolinecolor\":\"white\",\"gridwidth\":2}},\"shapedefaults\":{\"line\":{\"color\":\"#2a3f5f\"}},\"annotationdefaults\":{\"arrowcolor\":\"#2a3f5f\",\"arrowhead\":0,\"arrowwidth\":1},\"geo\":{\"bgcolor\":\"white\",\"landcolor\":\"#E5ECF6\",\"subunitcolor\":\"white\",\"showland\":true,\"showlakes\":true,\"lakecolor\":\"white\"},\"title\":{\"x\":0.05},\"mapbox\":{\"style\":\"light\"}}},\"xaxis\":{\"anchor\":\"y\",\"domain\":[0.0,1.0],\"title\":{\"text\":\"date\"}},\"yaxis\":{\"anchor\":\"x\",\"domain\":[0.0,1.0],\"title\":{\"text\":\"GOOG\"}},\"legend\":{\"tracegroupgap\":0},\"margin\":{\"t\":60}},                        {\"responsive\": true}                    ).then(function(){\n",
       "                            \n",
       "var gd = document.getElementById('615638e9-c502-4bde-a9b5-245d43aeec76');\n",
       "var x = new MutationObserver(function (mutations, observer) {{\n",
       "        var display = window.getComputedStyle(gd).display;\n",
       "        if (!display || display === 'none') {{\n",
       "            console.log([gd, 'removed!']);\n",
       "            Plotly.purge(gd);\n",
       "            observer.disconnect();\n",
       "        }}\n",
       "}});\n",
       "\n",
       "// Listen for the removal of the full notebook cells\n",
       "var notebookContainer = gd.closest('#notebook-container');\n",
       "if (notebookContainer) {{\n",
       "    x.observe(notebookContainer, {childList: true});\n",
       "}}\n",
       "\n",
       "// Listen for the clearing of the current output cell\n",
       "var outputEl = gd.closest('.output');\n",
       "if (outputEl) {{\n",
       "    x.observe(outputEl, {childList: true});\n",
       "}}\n",
       "\n",
       "                        })                };                });            </script>        </div>"
      ]
     },
     "metadata": {},
     "output_type": "display_data"
    }
   ],
   "source": [
    "# plotly plot\n",
    "import plotly.express as px\n",
    "import plotly.graph_objects as go\n",
    "\n",
    "fig = go.Figure([go.Scatter(x=get_subject_activity(protocol_dataframes[\"subject101\"], 5)['timestamp (s)'],\n",
    "                            y=get_subject_activity(protocol_dataframes[\"subject101\"], 5)['heart rate (bpm)'])])\n",
    "\n",
    "df = px.data.stocks()\n",
    "fig = px.line(df, x='date', y='GOOG')\n",
    "\n",
    "fig.show()\n",
    "\n",
    "# values = activity_count\n",
    "\n",
    "# keys_lst = []\n",
    "# count_lst = []\n",
    "# for key in values.keys():\n",
    "#     keys_lst.append(key)\n",
    "#     count_lst.append(values[key])\n",
    "\n",
    "# activity_names = [get_activity_name_by_id(act_id) for act_id in keys_lst]\n",
    "\n",
    "# fig, ax = plt.subplots(9, 1)\n",
    "# fig.set_size_inches(22, 10.5)\n",
    "\n",
    "# ax.bar(activity_names, count_lst)\n",
    "# ax.set_ylabel('heart rate (bpm)')\n",
    "# ax.set_xlabel('time')\n",
    "# ax.set_title('Subject heart rate during running')\n",
    "\n",
    "\n",
    "# plt.show()"
   ]
  },
  {
   "cell_type": "markdown",
   "id": "5adc1126-2238-4d0e-8628-261401c3da90",
   "metadata": {},
   "source": [
    "# Pre-Processing"
   ]
  },
  {
   "cell_type": "code",
   "execution_count": null,
   "id": "d06ad391-a248-42ec-9504-51ff7a625425",
   "metadata": {},
   "outputs": [],
   "source": []
  }
 ],
 "metadata": {
  "kernelspec": {
   "display_name": "Python 3",
   "language": "python",
   "name": "python3"
  },
  "language_info": {
   "codemirror_mode": {
    "name": "ipython",
    "version": 3
   },
   "file_extension": ".py",
   "mimetype": "text/x-python",
   "name": "python",
   "nbconvert_exporter": "python",
   "pygments_lexer": "ipython3",
   "version": "3.7.12"
  }
 },
 "nbformat": 4,
 "nbformat_minor": 5
}
